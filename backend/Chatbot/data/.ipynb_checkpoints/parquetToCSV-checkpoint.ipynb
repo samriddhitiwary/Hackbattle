{
 "cells": [
  {
   "cell_type": "code",
   "execution_count": 1,
   "id": "3f686146-57c2-4cfa-a970-b54b38dcf208",
   "metadata": {},
   "outputs": [],
   "source": [
    "import json\n",
    "import csv"
   ]
  },
  {
   "cell_type": "code",
   "execution_count": 12,
   "id": "7c1d33f7-0db9-4238-9f51-f97357c8c321",
   "metadata": {},
   "outputs": [],
   "source": [
    "with open('intents.json', 'r') as f:\n",
    "    json_data = json.load(f)\n",
    "    json_data = json_data['intents']"
   ]
  },
  {
   "cell_type": "code",
   "execution_count": 19,
   "id": "4a84da30-da0a-4850-b516-07d2e91caf6e",
   "metadata": {},
   "outputs": [],
   "source": [
    "data_to_csv = []\n",
    "for item in json_data:\n",
    "    data_to_csv.append({\n",
    "        'tag': item['tag'],\n",
    "        'patterns': item['patterns'],\n",
    "        'responses': item['responses']\n",
    "    })"
   ]
  },
  {
   "cell_type": "code",
   "execution_count": 21,
   "id": "4339bded-bc4c-4461-b784-eaada70a1779",
   "metadata": {},
   "outputs": [],
   "source": [
    "import csv\n",
    "\n",
    "with open(\"basicData.csv\", \"w\", newline=\"\") as csvfile:\n",
    "    fieldnames = data_to_csv[0].keys()\n",
    "    writer = csv.DictWriter(csvfile, fieldnames=fieldnames)\n",
    "\n",
    "    writer.writeheader()\n",
    "\n",
    "    for row in data_to_csv:\n",
    "        writer.writerow(row)"
   ]
  },
  {
   "cell_type": "code",
   "execution_count": null,
   "id": "0f6091c7-f0cb-48a7-a6ae-c437a99e1b85",
   "metadata": {},
   "outputs": [],
   "source": []
  }
 ],
 "metadata": {
  "kernelspec": {
   "display_name": "Python 3 (ipykernel)",
   "language": "python",
   "name": "python3"
  },
  "language_info": {
   "codemirror_mode": {
    "name": "ipython",
    "version": 3
   },
   "file_extension": ".py",
   "mimetype": "text/x-python",
   "name": "python",
   "nbconvert_exporter": "python",
   "pygments_lexer": "ipython3",
   "version": "3.12.4"
  }
 },
 "nbformat": 4,
 "nbformat_minor": 5
}
