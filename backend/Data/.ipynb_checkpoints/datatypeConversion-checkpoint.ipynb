{
 "cells": [
  {
   "cell_type": "code",
   "execution_count": null,
   "id": "c75d0e0a-bfe1-4267-8b58-92274798aef2",
   "metadata": {},
   "outputs": [],
   "source": [
    "import pandas as pd\n",
    "\n",
    "# Read the CSV file into a DataFrame\n",
    "df = pd.read_csv('your_csv_file.csv')\n",
    "\n",
    "# Convert the DataFrame to JSON\n",
    "json_data = df.to_json(orient='records')\n",
    "\n",
    "# Print the JSON data\n"
   ]
  }
 ],
 "metadata": {
  "kernelspec": {
   "display_name": "Python 3 (ipykernel)",
   "language": "python",
   "name": "python3"
  },
  "language_info": {
   "codemirror_mode": {
    "name": "ipython",
    "version": 3
   },
   "file_extension": ".py",
   "mimetype": "text/x-python",
   "name": "python",
   "nbconvert_exporter": "python",
   "pygments_lexer": "ipython3",
   "version": "3.12.4"
  }
 },
 "nbformat": 4,
 "nbformat_minor": 5
}
